{
 "cells": [
  {
   "cell_type": "code",
   "execution_count": 33,
   "source": [
    "from tictactoe import *\r\n",
    "from arena import *\r\n",
    "from agents.human import *\r\n",
    "from agents.random import *\r\n",
    "from agents.heuristic import *"
   ],
   "outputs": [],
   "metadata": {}
  },
  {
   "cell_type": "code",
   "execution_count": 36,
   "source": [
    "arena = Arena(Heuristic(),Random(),size=3)\r\n",
    "arena.battle(iters=1000)"
   ],
   "outputs": [
    {
     "output_type": "stream",
     "name": "stderr",
     "text": [
      "100%|██████████| 1000/1000 [00:01<00:00, 639.75it/s]\n"
     ]
    },
    {
     "output_type": "execute_result",
     "data": {
      "text/plain": [
       "(978, 7, 15)"
      ]
     },
     "metadata": {},
     "execution_count": 36
    }
   ],
   "metadata": {}
  }
 ],
 "metadata": {
  "orig_nbformat": 4,
  "language_info": {
   "name": "python",
   "version": "3.9.5",
   "mimetype": "text/x-python",
   "codemirror_mode": {
    "name": "ipython",
    "version": 3
   },
   "pygments_lexer": "ipython3",
   "nbconvert_exporter": "python",
   "file_extension": ".py"
  },
  "kernelspec": {
   "name": "python3",
   "display_name": "Python 3.9.5 64-bit"
  },
  "interpreter": {
   "hash": "20aae6498e20301198b9282cfba26225ce2aa47d5ccbb47917268a3f1a433ed9"
  }
 },
 "nbformat": 4,
 "nbformat_minor": 2
}