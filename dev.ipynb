{
 "cells": [
  {
   "cell_type": "code",
   "execution_count": 1,
   "source": [
    "from tictactoe import *\r\n",
    "from arena import *\r\n",
    "from agents.human import *\r\n",
    "from agents.random import *\r\n",
    "from agents.simple_strategy import *"
   ],
   "outputs": [],
   "metadata": {}
  },
  {
   "cell_type": "code",
   "execution_count": 2,
   "source": [
    "import copy\r\n",
    "from tqdm import tqdm\r\n",
    "class Complete_Tree_Search:\r\n",
    "    def __init_(self):\r\n",
    "        pass\r\n",
    "\r\n",
    "\r\n",
    "    def check_state(self,board,size,move_num,agent_ident):\r\n",
    "                    \r\n",
    "        #check vertical and horiz lines\r\n",
    "        for i in range(size):\r\n",
    "            if np.all(board[0,i]==board[:,i]) and board[0,i] != 0:\r\n",
    "                if board[0,i] == agent_ident:\r\n",
    "                    return 1\r\n",
    "                else:\r\n",
    "                    return -100\r\n",
    "            if np.all(board[i,0]==board[i,:]) and board[i,0] != 0:\r\n",
    "                if board[i,0] == agent_ident:\r\n",
    "                    return 1\r\n",
    "                else:\r\n",
    "                    return -100\r\n",
    "            \r\n",
    "        #check diagonals\r\n",
    "        if len(set([board[i][i] for i in range(size)]))==1 and board[0,0]!=0: \r\n",
    "            if board[0,0] == agent_ident:\r\n",
    "                return 1\r\n",
    "            else:\r\n",
    "                return -100\r\n",
    "        if len(set([board[i][size-1-i] for i in range(size)]))==1 and board[0,-1]!=0:\r\n",
    "            if board[0,-1] == agent_ident:\r\n",
    "                return 1\r\n",
    "            else:\r\n",
    "                return -100\r\n",
    "\r\n",
    "        #check for full board\r\n",
    "        if move_num==size**2: return 0\r\n",
    "\r\n",
    "        return None\r\n",
    "\r\n",
    "    def make_move(self,game):\r\n",
    "        \r\n",
    "        open = np.where(game.get_board()==0)\r\n",
    "        open_pos = list(zip(open[0],open[1]))\r\n",
    "\r\n",
    "        max_val = -float('inf')\r\n",
    "        best_move = []\r\n",
    "        for i in open_pos:#tqdm(open_pos):\r\n",
    "            move_val = self.recurse(game.get_board(),i,game.get_current_turn(), game.get_current_turn(),game.get_num_move())\r\n",
    "            #print(\"move val : {}\".format(move_val))\r\n",
    "            if move_val > max_val:\r\n",
    "                max_val = move_val\r\n",
    "                best_move=i\r\n",
    "\r\n",
    "      \r\n",
    "\r\n",
    "        return best_move\r\n",
    "\r\n",
    "    def recurse(self,board,move,current_turn,agent_ident,move_num):\r\n",
    "        #add move to board\r\n",
    "        board_copy = copy.deepcopy(board)\r\n",
    "        board_copy[move[0],move[1]]=current_turn\r\n",
    "        \r\n",
    "        #checks if game is finished\r\n",
    "        current_state = self.check_state(board_copy,len(board[0]),move_num+1,agent_ident)\r\n",
    "        if current_state != None:\r\n",
    "            return current_state\r\n",
    "\r\n",
    "        #finds open positions on board\r\n",
    "        open = np.where(board_copy==0)\r\n",
    "        open_pos = list(zip(open[0],open[1]))\r\n",
    "\r\n",
    "       \r\n",
    "        #if agent is playing\r\n",
    "        if current_turn == agent_ident:\r\n",
    "            ave_value = 0\r\n",
    "            for i in open_pos:\r\n",
    "                ave_value+=self.recurse(board_copy,i,((current_turn-2)%2)+1,agent_ident,move_num+1)\r\n",
    "            return ave_value/len(open_pos)\r\n",
    "\r\n",
    "        #if opponent is playing\r\n",
    "        else:\r\n",
    "            max_val =-float('inf')\r\n",
    "            for i in open_pos:\r\n",
    "                move_val = self.recurse(board_copy,i,((current_turn-2)%2)+1,agent_ident,move_num+1)\r\n",
    "                if move_val > max_val:\r\n",
    "                    max_val = move_val\r\n",
    "            return max_val"
   ],
   "outputs": [],
   "metadata": {}
  },
  {
   "cell_type": "code",
   "execution_count": 38,
   "source": [
    "tree = Complete_Tree_Search()\r\n",
    "board = np.zeros((3,3))\r\n",
    "\r\n",
    "board[0,0]=2\r\n",
    "board[2,0]=1\r\n",
    "board[0,1]=1\r\n",
    "board[1,1]=1\r\n",
    "board[0,2]=2\r\n",
    "#board[2,1]=2\r\n",
    "#board[2,2]=1\r\n",
    "print(board)\r\n",
    "tree.recurse(board,(2,2),2,2,5)\r\n",
    "\r\n",
    "#1,2 =-33.0\r\n",
    "#1,0 = -33.3\r\n",
    "#2,1 = 0\r\n",
    "#2,2 = -66.3\r\n"
   ],
   "outputs": [
    {
     "output_type": "stream",
     "name": "stdout",
     "text": [
      "[[2. 1. 2.]\n",
      " [0. 1. 0.]\n",
      " [1. 0. 0.]]\n",
      "open pos\n",
      "[(1, 0), (1, 2), (2, 1)]\n",
      "[[2. 1. 2.]\n",
      " [0. 1. 0.]\n",
      " [1. 0. 2.]]\n",
      "open pos\n",
      "[(1, 2), (2, 1)]\n",
      "[[2. 1. 2.]\n",
      " [1. 1. 0.]\n",
      " [1. 0. 2.]]\n",
      "open pos\n",
      "[(1, 2)]\n",
      "[[2. 1. 2.]\n",
      " [1. 1. 0.]\n",
      " [1. 2. 2.]]\n",
      "open pos\n",
      "[(1, 0), (2, 1)]\n",
      "[[2. 1. 2.]\n",
      " [0. 1. 1.]\n",
      " [1. 0. 2.]]\n",
      "open pos\n",
      "[(2, 1)]\n",
      "[[2. 1. 2.]\n",
      " [2. 1. 1.]\n",
      " [1. 0. 2.]]\n",
      "open pos\n",
      "[(1, 0)]\n",
      "[[2. 1. 2.]\n",
      " [0. 1. 1.]\n",
      " [1. 2. 2.]]\n"
     ]
    },
    {
     "output_type": "execute_result",
     "data": {
      "text/plain": [
       "-66.33333333333333"
      ]
     },
     "metadata": {},
     "execution_count": 38
    }
   ],
   "metadata": {}
  },
  {
   "cell_type": "code",
   "execution_count": null,
   "source": [
    "# random: 47 ties out of 500"
   ],
   "outputs": [],
   "metadata": {}
  },
  {
   "cell_type": "code",
   "execution_count": 8,
   "source": [
    "arena = Arena(Simple_Strategy(),Complete_Tree_Search(),size=3)\r\n",
    "result = arena.battle(iters = 500)"
   ],
   "outputs": [
    {
     "output_type": "stream",
     "name": "stderr",
     "text": [
      "100%|██████████| 500/500 [18:41<00:00,  2.24s/it]\n"
     ]
    }
   ],
   "metadata": {}
  },
  {
   "cell_type": "code",
   "execution_count": 9,
   "source": [
    "result"
   ],
   "outputs": [
    {
     "output_type": "execute_result",
     "data": {
      "text/plain": [
       "(0, 0, 500)"
      ]
     },
     "metadata": {},
     "execution_count": 9
    }
   ],
   "metadata": {}
  },
  {
   "cell_type": "code",
   "execution_count": null,
   "source": [],
   "outputs": [],
   "metadata": {}
  },
  {
   "cell_type": "code",
   "execution_count": null,
   "source": [],
   "outputs": [],
   "metadata": {}
  },
  {
   "cell_type": "code",
   "execution_count": 7,
   "source": [
    "#simple vs random\r\n",
    "\r\n",
    "#first: 9756, 66, 178\r\n",
    "#second: 549, 8111, 1340\r\n",
    "\r\n",
    "#after change:\r\n",
    "#first: 9844, 12, 144\r\n",
    "#second: 453, 8435, 1112"
   ],
   "outputs": [],
   "metadata": {}
  },
  {
   "cell_type": "code",
   "execution_count": null,
   "source": [],
   "outputs": [],
   "metadata": {}
  }
 ],
 "metadata": {
  "orig_nbformat": 4,
  "language_info": {
   "name": "python",
   "version": "3.9.5",
   "mimetype": "text/x-python",
   "codemirror_mode": {
    "name": "ipython",
    "version": 3
   },
   "pygments_lexer": "ipython3",
   "nbconvert_exporter": "python",
   "file_extension": ".py"
  },
  "kernelspec": {
   "name": "python3",
   "display_name": "Python 3.9.5 64-bit"
  },
  "interpreter": {
   "hash": "20aae6498e20301198b9282cfba26225ce2aa47d5ccbb47917268a3f1a433ed9"
  }
 },
 "nbformat": 4,
 "nbformat_minor": 2
}