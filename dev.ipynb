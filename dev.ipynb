{
 "cells": [
  {
   "cell_type": "code",
   "execution_count": 1,
   "source": [
    "from tictactoe import *\r\n",
    "from  agents.human import *\r\n",
    "from agents.random import *"
   ],
   "outputs": [],
   "metadata": {}
  },
  {
   "cell_type": "code",
   "execution_count": 2,
   "source": [
    "class Arena:\r\n",
    "    def __init__(self,agent_1,agent_2,size=3):\r\n",
    "        self.__agent_1 = agent_1\r\n",
    "        self.__agent_2 = agent_2\r\n",
    "        self.__size = size\r\n",
    "\r\n",
    "    def battle(self,iters=10):\r\n",
    "        wins_agent_1=0\r\n",
    "        wins_agent_2=0\r\n",
    "        ties=0\r\n",
    "        #play iters number of games\r\n",
    "        for i in tqdm(range(iters)):\r\n",
    "            result = self.play()\r\n",
    "            if result==1: wins_agent_1 +=1\r\n",
    "            if result==2: wins_agent_2 +=1\r\n",
    "            if result==3: ties +=1\r\n",
    "        return (wins_agent_1,wins_agent_2,ties)\r\n",
    "\r\n",
    "    def play(self):\r\n",
    "        turn1 = True\r\n",
    "        game = TicTacToe(size = self.__size)\r\n",
    "        result = None\r\n",
    "        while True:\r\n",
    "            if turn1: result = game.move(1,self.__agent_1.make_move(game))\r\n",
    "            else: result = game.move(2,self.__agent_2.make_move(game))\r\n",
    "            turn1 = not turn1\r\n",
    "            if result is not None:\r\n",
    "                return result\r\n",
    "\r\n",
    "\r\n",
    "\r\n",
    "    "
   ],
   "outputs": [],
   "metadata": {}
  },
  {
   "cell_type": "code",
   "execution_count": 14,
   "source": [
    "arena = Arena(Random(),Random(),size=10)\r\n",
    "arena.battle(iters=1000)"
   ],
   "outputs": [
    {
     "output_type": "stream",
     "name": "stderr",
     "text": [
      "100%|██████████| 1000/1000 [00:11<00:00, 86.62it/s]\n"
     ]
    },
    {
     "output_type": "execute_result",
     "data": {
      "text/plain": [
       "(11, 15, 974)"
      ]
     },
     "metadata": {},
     "execution_count": 14
    }
   ],
   "metadata": {}
  },
  {
   "cell_type": "code",
   "execution_count": null,
   "source": [],
   "outputs": [],
   "metadata": {}
  },
  {
   "cell_type": "code",
   "execution_count": null,
   "source": [],
   "outputs": [],
   "metadata": {}
  },
  {
   "cell_type": "code",
   "execution_count": null,
   "source": [],
   "outputs": [],
   "metadata": {}
  },
  {
   "cell_type": "code",
   "execution_count": null,
   "source": [],
   "outputs": [],
   "metadata": {}
  },
  {
   "cell_type": "code",
   "execution_count": null,
   "source": [],
   "outputs": [],
   "metadata": {}
  }
 ],
 "metadata": {
  "orig_nbformat": 4,
  "language_info": {
   "name": "python",
   "version": "3.9.5",
   "mimetype": "text/x-python",
   "codemirror_mode": {
    "name": "ipython",
    "version": 3
   },
   "pygments_lexer": "ipython3",
   "nbconvert_exporter": "python",
   "file_extension": ".py"
  },
  "kernelspec": {
   "name": "python3",
   "display_name": "Python 3.9.5 64-bit"
  },
  "interpreter": {
   "hash": "20aae6498e20301198b9282cfba26225ce2aa47d5ccbb47917268a3f1a433ed9"
  }
 },
 "nbformat": 4,
 "nbformat_minor": 2
}